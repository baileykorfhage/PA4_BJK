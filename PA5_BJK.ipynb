{
 "cells": [
  {
   "cell_type": "markdown",
   "id": "d27d97cb",
   "metadata": {},
   "source": [
    "# Programming Assignment 4\n",
    "## Bailey Korfhage\n",
    "## Version 1\n",
    "## CS-150-01\n"
   ]
  },
  {
   "cell_type": "code",
   "execution_count": 31,
   "id": "0da79059",
   "metadata": {},
   "outputs": [
    {
     "name": "stdout",
     "output_type": "stream",
     "text": [
      "Enter a word to translate from English to Spanish (enter 0 to stop): cat\n",
      "The Spanish word for CAT is GATO\n",
      "Enter a word to translate from English to Spanish (enter 0 to stop): hello\n",
      "The Spanish word for HELLO is HOLA\n",
      "Enter a word to translate from English to Spanish (enter 0 to stop): tree\n",
      "The Spanish translation for TREE is not in this dictionary.\n",
      "Enter a word to translate from English to Spanish (enter 0 to stop): 0\n"
     ]
    }
   ],
   "source": [
    "translations = {'hello':'hola', \n",
    "                'chair': 'silla', \n",
    "                'llamas': 'name', \n",
    "                'table': 'mesa', \n",
    "                'hora': 'hour', \n",
    "                'hot': 'caliente', \n",
    "                'look': 'mira', \n",
    "                'school': 'escuela', \n",
    "                'church': 'iglesia', \n",
    "                'eye':'ojo', \n",
    "                'four': 'cuatro', \n",
    "                'blue': 'azul', \n",
    "                'computer': 'computadora', \n",
    "                'years': 'anos', \n",
    "                'cat': 'gato', \n",
    "                'woman': 'mujer', \n",
    "                'you': 'tu', \n",
    "                'milk': 'leche', \n",
    "                'library': 'biblioteca', \n",
    "                'one': 'uno'}\n",
    "prompt='Enter a word to translate from English to Spanish (enter 0 to stop): '\n",
    "active=True\n",
    "while active:\n",
    "    word=input(prompt)\n",
    "    if word in translations:\n",
    "        print('The Spanish word for', word.upper(), 'is', translations[word].upper())\n",
    "    elif word == '0':\n",
    "        break\n",
    "    else:\n",
    "        print('The Spanish translation for', word.upper(), 'is not in this dictionary.')"
   ]
  },
  {
   "cell_type": "code",
   "execution_count": 46,
   "id": "2bb5b313",
   "metadata": {},
   "outputs": [
    {
     "data": {
      "text/plain": [
       "{'September 1': 30.0,\n",
       " 'September 2': 31.7,\n",
       " 'September 3': 31.1,\n",
       " 'September 4': 27.8,\n",
       " 'September 5': 30.0,\n",
       " 'September 6': 29.4,\n",
       " 'September 7': 28.3,\n",
       " 'September 8': 27.8,\n",
       " 'September 9': 30.0,\n",
       " 'September 10': 28.3,\n",
       " 'September 11': 27.8,\n",
       " 'September 12': 24.4,\n",
       " 'September 13': 24.4,\n",
       " 'September 14': 27.8,\n",
       " 'September 15': 29.4,\n",
       " 'September 16': 30.0,\n",
       " 'September 17': 30.0,\n",
       " 'September 18': 30.0,\n",
       " 'September 19': 32.2,\n",
       " 'September 20': 33.9,\n",
       " 'September 21': 35.6,\n",
       " 'September 22': 26.7,\n",
       " 'September 23': 20.6,\n",
       " 'September 24': 27.2,\n",
       " 'September 25': 26.1,\n",
       " 'September 26': 22.2,\n",
       " 'September 27': 21.7,\n",
       " 'September 28': 18.9,\n",
       " 'September 29': 21.7,\n",
       " 'September 30': 23.3}"
      ]
     },
     "execution_count": 46,
     "metadata": {},
     "output_type": "execute_result"
    }
   ],
   "source": [
    "faren={'September 1':86, \n",
    "       'September 2':89, \n",
    "       'September 3':88, \n",
    "       'September 4':82, \n",
    "       'September 5':86, \n",
    "       'September 6':85, \n",
    "       'September 7':83, \n",
    "       'September 8':82, \n",
    "       'September 9':86, \n",
    "       'September 10':83, \n",
    "       'September 11':82, \n",
    "       'September 12':76, \n",
    "       'September 13':76, \n",
    "       'September 14':82, \n",
    "       'September 15':85, \n",
    "       'September 16':86, \n",
    "       'September 17':86, \n",
    "       'September 18':86, \n",
    "       'September 19':90, \n",
    "       'September 20':93,\n",
    "       'September 21':96, \n",
    "       'September 22':80, \n",
    "       'September 23':69, \n",
    "       'September 24':81, \n",
    "       'September 25':79, \n",
    "       'September 26':72, \n",
    "       'September 27':71, \n",
    "       'September 28':66, \n",
    "       'September 29':71, \n",
    "       'September 30':74}\n",
    "cel={}\n",
    "for date,temp in faren.items():\n",
    "    cel.update({date:round((temp-32)*.5555,1)})\n",
    "cel"
   ]
  },
  {
   "cell_type": "code",
   "execution_count": 48,
   "id": "067b4a53",
   "metadata": {},
   "outputs": [
    {
     "data": {
      "text/plain": [
       "{1: 1,\n",
       " 2: 4,\n",
       " 3: 9,\n",
       " 4: 16,\n",
       " 5: 25,\n",
       " 6: 36,\n",
       " 7: 49,\n",
       " 8: 64,\n",
       " 9: 81,\n",
       " 10: 100,\n",
       " 11: 121,\n",
       " 12: 144,\n",
       " 13: 169,\n",
       " 14: 196,\n",
       " 15: 225}"
      ]
     },
     "execution_count": 48,
     "metadata": {},
     "output_type": "execute_result"
    }
   ],
   "source": [
    "D={}\n",
    "for i in range(1,16):\n",
    "    D.update({i:i**2})\n",
    "D"
   ]
  }
 ],
 "metadata": {
  "kernelspec": {
   "display_name": "Python 3 (ipykernel)",
   "language": "python",
   "name": "python3"
  },
  "language_info": {
   "codemirror_mode": {
    "name": "ipython",
    "version": 3
   },
   "file_extension": ".py",
   "mimetype": "text/x-python",
   "name": "python",
   "nbconvert_exporter": "python",
   "pygments_lexer": "ipython3",
   "version": "3.9.12"
  }
 },
 "nbformat": 4,
 "nbformat_minor": 5
}
